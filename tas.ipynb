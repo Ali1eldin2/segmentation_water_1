{
 "cells": [
  {
   "cell_type": "code",
   "execution_count": 14,
   "id": "3bcf23fa",
   "metadata": {},
   "outputs": [],
   "source": [
    "import os \n",
    "import matplotlib as plt\n",
    "import PIL as Image \n",
    "import numpy as np\n",
    "import tensorflow as tf\n",
    "\n",
    "from tensorflow.keras import layers , Model, Input\n",
    "from tensorflow.keras.optimizers import Adam\n",
    "from tensorflow.keras.preprocessing.image import ImageDataGenerator\n",
    "from sklearn.model_selection import train_test_split\n",
    "\n",
    "\n",
    "import pandas as pd\n",
    "import cv2\n",
    "\n",
    "import tifffile\n",
    "\n",
    "import imageio.v3 as iio\n",
    "import matplotlib.pyplot as plt"
   ]
  },
  {
   "cell_type": "code",
   "execution_count": 15,
   "id": "93a6c236",
   "metadata": {},
   "outputs": [],
   "source": [
    "train_image_dir=r\"D:\\cellula\\task_2\\data\\images\"\n",
    "train_mask_dir=r\"D:\\cellula\\task_2\\data\\labels\""
   ]
  },
  {
   "cell_type": "code",
   "execution_count": 16,
   "id": "64631f2b",
   "metadata": {},
   "outputs": [],
   "source": [
    "train_img_files=sorted(os.listdir(train_image_dir))\n",
    "train_mask_files=sorted(os.listdir(train_mask_dir))"
   ]
  },
  {
   "cell_type": "code",
   "execution_count": 17,
   "id": "e9b393d1",
   "metadata": {},
   "outputs": [],
   "source": [
    "images= [os.path.join(train_image_dir, file) for file in os.listdir(train_image_dir)]\n",
    "masks= [os.path.join(train_mask_dir, file) for file in os.listdir(train_mask_dir)]\n",
    "\n",
    "data = pd.DataFrame({\"image\":images, \"mask\":masks})\n",
    "train_df , val_df =train_test_split(data , train_size=0.8 ,shuffle=True , random_state=123)"
   ]
  },
  {
   "cell_type": "code",
   "execution_count": 18,
   "id": "44dfa1d5",
   "metadata": {},
   "outputs": [],
   "source": [
    "image_datagen=ImageDataGenerator(rescale=1/255)\n",
    "mask_datagen=ImageDataGenerator(rescale=1/255)"
   ]
  },
  {
   "cell_type": "code",
   "execution_count": 19,
   "id": "38ecbfb6",
   "metadata": {},
   "outputs": [],
   "source": [
    "def create_generator(image_generator, mask_generator, batch_size=16):\n",
    "    while True:\n",
    "        for (img_batch,mask_batch) in zip(image_generator,mask_generator):\n",
    "            yield img_batch, mask_batch"
   ]
  },
  {
   "cell_type": "code",
   "execution_count": 20,
   "id": "d8c58cfa",
   "metadata": {},
   "outputs": [
    {
     "name": "stdout",
     "output_type": "stream",
     "text": [
      "Found 244 validated image filenames.\n",
      "Found 244 validated image filenames.\n"
     ]
    }
   ],
   "source": [
    "train_image_generator = image_datagen.flow_from_dataframe(\n",
    "    dataframe = train_df,\n",
    "    x_col =\"image\",\n",
    "    y_col=None,\n",
    "    target_size=(128,128),\n",
    "    batch_size=16,\n",
    "    class_mode=None,\n",
    "    color_mode=\"rgb\",\n",
    "    shuffle=True,\n",
    "    seed=42\n",
    ")\n",
    "\n",
    "train_mask_generator = mask_datagen.flow_from_dataframe(\n",
    "    dataframe=train_df,\n",
    "    x_col =\"mask\",\n",
    "    y_col=None,\n",
    "    target_size=(128,128),\n",
    "    batch_size=16,\n",
    "    class_mode=None,\n",
    "    color_mode=\"grayscale\",\n",
    "    shuffle=True,\n",
    "    seed=42   \n",
    ")\n",
    "\n",
    "\n",
    "train_generator = create_generator(train_image_generator, train_mask_generator)\n",
    "# or same use  val_generator = zip(val_image_generator, val_mask_generator)"
   ]
  },
  {
   "cell_type": "code",
   "execution_count": 21,
   "id": "7b18580b",
   "metadata": {},
   "outputs": [
    {
     "name": "stdout",
     "output_type": "stream",
     "text": [
      "Found 62 validated image filenames.\n",
      "Found 62 validated image filenames.\n"
     ]
    }
   ],
   "source": [
    "val_image_generator=image_datagen.flow_from_dataframe(\n",
    "    dataframe = val_df,\n",
    "    x_col =\"image\",\n",
    "    y_col=None,\n",
    "    target_size=(128,128),\n",
    "    batch_size=16,\n",
    "    class_mode=None,\n",
    "    color_mode=\"rgb\",\n",
    "    shuffle=False,\n",
    "    seed=42\n",
    ")\n",
    "\n",
    "val_mask_generator=mask_datagen.flow_from_dataframe(\n",
    "    dataframe = val_df,\n",
    "    x_col =\"mask\",\n",
    "    y_col=None,\n",
    "    target_size=(128,128),\n",
    "    batch_size=16,\n",
    "    class_mode=None,\n",
    "    color_mode=\"grayscale\",\n",
    "    shuffle=False,\n",
    "    seed=42\n",
    ")\n",
    "\n",
    "val_generator = create_generator(val_image_generator, val_mask_generator)"
   ]
  },
  {
   "cell_type": "code",
   "execution_count": null,
   "id": "403e27db",
   "metadata": {},
   "outputs": [],
   "source": []
  },
  {
   "cell_type": "code",
   "execution_count": 22,
   "id": "c96e6e6e",
   "metadata": {},
   "outputs": [],
   "source": [
    "def unet_model(input_size=(128,128)):\n",
    "    inputs =Input(input_size)\n",
    "\n",
    "\n",
    "    c1 =layers.Conv2D(64, (3,3), activation=\"relu\", padding=\"same\")(inputs)\n",
    "    c1 =layers.Conv2D(64, (3,3), activation=\"relu\", padding=\"same\")(c1)\n",
    "    p1 =layers.MaxPooling2D( (2,2) )(c1)\n",
    "\n",
    "    c2 =layers.Conv2D(128, (3,3), activation=\"relu\", padding=\"same\")(p1)\n",
    "    c2 =layers.Conv2D(128, (3,3), activation=\"relu\", padding=\"same\")(c2)\n",
    "    p2 =layers.MaxPooling2D( (2,2) )(c2)\n",
    "\n",
    "    c3 =layers.Conv2D(256, (3,3), activation=\"relu\", padding=\"same\")(p2)\n",
    "    c3 =layers.Conv2D(256, (3,3), activation=\"relu\", padding=\"same\")(c3)\n",
    "    p3 =layers.MaxPooling2D( (2,2) )(c3)\n",
    "\n",
    "    c4 =layers.Conv2D(512, (3,3), activation=\"relu\", padding=\"same\")(p3)\n",
    "    c4 =layers.Conv2D(512, (3,3), activation=\"relu\", padding=\"same\")(c4)\n",
    "    p4 =layers.MaxPooling2D( (2,2) )(c4)   \n",
    "\n",
    "\n",
    "    c5 =layers.Conv2D(1024, (3,3), activation=\"relu\", padding=\"same\")(p4)\n",
    "    c5 =layers.Conv2D(1024, (3,3), activation=\"relu\", padding=\"same\")(c5)\n",
    "  \n",
    " # decoder\n",
    "\n",
    "    u6 =layers.Conv2DTranspose(512, (2,2), strides=(2,2), padding=\"same\")(c5)\n",
    "    #u6 =layers.Concatenate([u6 , c4])\n",
    "    u6 = layers.Concatenate()([u6, c4])\n",
    "    c6 =layers.Conv2D(512, (3,3), activation=\"relu\", padding=\"same\")(u6)\n",
    "    c6 =layers.Conv2D(512, (3,3), activation=\"relu\", padding=\"same\")(c6)\n",
    "\n",
    "    u7 =layers.Conv2DTranspose(256, (2,2), strides=(2,2), padding=\"same\")(c6)\n",
    "    #u7 =layers.Concatenate([u7 , c3])\n",
    "    u7 = layers.Concatenate()([u7, c3])\n",
    "    c7 =layers.Conv2D(256, (3,3), activation=\"relu\", padding=\"same\")(u7)\n",
    "    c7 =layers.Conv2D(256, (3,3), activation=\"relu\", padding=\"same\")(c7)\n",
    "\n",
    "    u8 =layers.Conv2DTranspose(128, (2,2), strides=(2,2), padding=\"same\")(c7)\n",
    "    #u8 =layers.Concatenate([u8 , c2])\n",
    "    u8 = layers.Concatenate()([u8, c2])\n",
    "    c8 =layers.Conv2D(128, (3,3), activation=\"relu\", padding=\"same\")(u8)\n",
    "    c8 =layers.Conv2D(128, (3,3), activation=\"relu\", padding=\"same\")(c8)\n",
    "\n",
    "    u9 =layers.Conv2DTranspose(64, (2,2), strides=(2,2), padding=\"same\")(c8)\n",
    "    #u9 =layers.Concatenate([u9 , c1])\n",
    "    u9 = layers.Concatenate()([u9, c1])\n",
    "    c9 =layers.Conv2D(64, (3,3), activation=\"relu\", padding=\"same\")(u9)\n",
    "    c9 =layers.Conv2D(64, (3,3), activation=\"relu\", padding=\"same\")(c9)  \n",
    "\n",
    "    #output layer\n",
    "\n",
    "\n",
    "    outputs= layers.Conv2D(1, (1,1), activation=\"sigmoid\")(c9)\n",
    "\n",
    "\n",
    "    model = Model(inputs=[inputs], outputs= [outputs])\n",
    "\n",
    "    return model  "
   ]
  },
  {
   "cell_type": "code",
   "execution_count": 23,
   "id": "36765ef3",
   "metadata": {},
   "outputs": [],
   "source": [
    "model = unet_model(input_size=(128, 128, 3))\n",
    "model.compile(optimizer='adam', loss='binary_crossentropy', metrics=['accuracy'])\n",
    "#model.summary()"
   ]
  },
  {
   "cell_type": "code",
   "execution_count": 24,
   "id": "f6dce807",
   "metadata": {},
   "outputs": [
    {
     "name": "stderr",
     "output_type": "stream",
     "text": [
      "More samples per pixel than can be decoded: 12\n"
     ]
    },
    {
     "ename": "UnidentifiedImageError",
     "evalue": "cannot identify image file <_io.BytesIO object at 0x000002B86EE79DA0>",
     "output_type": "error",
     "traceback": [
      "\u001b[31m---------------------------------------------------------------------------\u001b[39m",
      "\u001b[31mUnidentifiedImageError\u001b[39m                    Traceback (most recent call last)",
      "\u001b[36mCell\u001b[39m\u001b[36m \u001b[39m\u001b[32mIn[24]\u001b[39m\u001b[32m, line 1\u001b[39m\n\u001b[32m----> \u001b[39m\u001b[32m1\u001b[39m history = \u001b[43mmodel\u001b[49m\u001b[43m.\u001b[49m\u001b[43mfit\u001b[49m\u001b[43m(\u001b[49m\n\u001b[32m      2\u001b[39m \u001b[43mtrain_generator\u001b[49m\u001b[43m,\u001b[49m\n\u001b[32m      3\u001b[39m \u001b[43mvalidation_data\u001b[49m\u001b[43m=\u001b[49m\u001b[43mval_generator\u001b[49m\u001b[43m,\u001b[49m\n\u001b[32m      4\u001b[39m \u001b[43mepochs\u001b[49m\u001b[43m=\u001b[49m\u001b[32;43m5\u001b[39;49m\u001b[43m,\u001b[49m\n\u001b[32m      5\u001b[39m \u001b[43msteps_per_epoch\u001b[49m\u001b[43m=\u001b[49m\u001b[38;5;28;43mlen\u001b[39;49m\u001b[43m(\u001b[49m\u001b[43mtrain_df\u001b[49m\u001b[43m)\u001b[49m\u001b[43m/\u001b[49m\u001b[43m/\u001b[49m\u001b[32;43m16\u001b[39;49m\u001b[43m,\u001b[49m\n\u001b[32m      6\u001b[39m \u001b[43mvalidation_steps\u001b[49m\u001b[43m=\u001b[49m\u001b[38;5;28;43mlen\u001b[39;49m\u001b[43m(\u001b[49m\u001b[43mval_df\u001b[49m\u001b[43m)\u001b[49m\u001b[43m \u001b[49m\u001b[43m/\u001b[49m\u001b[43m/\u001b[49m\u001b[32;43m16\u001b[39;49m\n\u001b[32m      7\u001b[39m \n\u001b[32m      8\u001b[39m \u001b[43m)\u001b[49m\n",
      "\u001b[36mFile \u001b[39m\u001b[32md:\\cellula\\task_2\\cellula\\Lib\\site-packages\\keras\\src\\utils\\traceback_utils.py:122\u001b[39m, in \u001b[36mfilter_traceback.<locals>.error_handler\u001b[39m\u001b[34m(*args, **kwargs)\u001b[39m\n\u001b[32m    119\u001b[39m     filtered_tb = _process_traceback_frames(e.__traceback__)\n\u001b[32m    120\u001b[39m     \u001b[38;5;66;03m# To get the full stack trace, call:\u001b[39;00m\n\u001b[32m    121\u001b[39m     \u001b[38;5;66;03m# `keras.config.disable_traceback_filtering()`\u001b[39;00m\n\u001b[32m--> \u001b[39m\u001b[32m122\u001b[39m     \u001b[38;5;28;01mraise\u001b[39;00m e.with_traceback(filtered_tb) \u001b[38;5;28;01mfrom\u001b[39;00m\u001b[38;5;250m \u001b[39m\u001b[38;5;28;01mNone\u001b[39;00m\n\u001b[32m    123\u001b[39m \u001b[38;5;28;01mfinally\u001b[39;00m:\n\u001b[32m    124\u001b[39m     \u001b[38;5;28;01mdel\u001b[39;00m filtered_tb\n",
      "\u001b[36mCell\u001b[39m\u001b[36m \u001b[39m\u001b[32mIn[19]\u001b[39m\u001b[32m, line 3\u001b[39m, in \u001b[36mcreate_generator\u001b[39m\u001b[34m(image_generator, mask_generator, batch_size)\u001b[39m\n\u001b[32m      1\u001b[39m \u001b[38;5;28;01mdef\u001b[39;00m\u001b[38;5;250m \u001b[39m\u001b[34mcreate_generator\u001b[39m(image_generator, mask_generator, batch_size=\u001b[32m16\u001b[39m):\n\u001b[32m      2\u001b[39m     \u001b[38;5;28;01mwhile\u001b[39;00m \u001b[38;5;28;01mTrue\u001b[39;00m:\n\u001b[32m----> \u001b[39m\u001b[32m3\u001b[39m \u001b[43m        \u001b[49m\u001b[38;5;28;43;01mfor\u001b[39;49;00m\u001b[43m \u001b[49m\u001b[43m(\u001b[49m\u001b[43mimg_batch\u001b[49m\u001b[43m,\u001b[49m\u001b[43mmask_batch\u001b[49m\u001b[43m)\u001b[49m\u001b[43m \u001b[49m\u001b[38;5;129;43;01min\u001b[39;49;00m\u001b[43m \u001b[49m\u001b[38;5;28;43mzip\u001b[39;49m\u001b[43m(\u001b[49m\u001b[43mimage_generator\u001b[49m\u001b[43m,\u001b[49m\u001b[43mmask_generator\u001b[49m\u001b[43m)\u001b[49m\u001b[43m:\u001b[49m\n\u001b[32m      4\u001b[39m \u001b[43m            \u001b[49m\u001b[38;5;28;43;01myield\u001b[39;49;00m\u001b[43m \u001b[49m\u001b[43mimg_batch\u001b[49m\u001b[43m,\u001b[49m\u001b[43m \u001b[49m\u001b[43mmask_batch\u001b[49m\n",
      "\u001b[36mFile \u001b[39m\u001b[32md:\\cellula\\task_2\\cellula\\Lib\\site-packages\\PIL\\Image.py:3580\u001b[39m, in \u001b[36mopen\u001b[39m\u001b[34m(fp, mode, formats)\u001b[39m\n\u001b[32m   3578\u001b[39m     warnings.warn(message)\n\u001b[32m   3579\u001b[39m msg = \u001b[33m\"\u001b[39m\u001b[33mcannot identify image file \u001b[39m\u001b[38;5;132;01m%r\u001b[39;00m\u001b[33m\"\u001b[39m % (filename \u001b[38;5;28;01mif\u001b[39;00m filename \u001b[38;5;28;01melse\u001b[39;00m fp)\n\u001b[32m-> \u001b[39m\u001b[32m3580\u001b[39m \u001b[38;5;28;01mraise\u001b[39;00m UnidentifiedImageError(msg)\n",
      "\u001b[31mUnidentifiedImageError\u001b[39m: cannot identify image file <_io.BytesIO object at 0x000002B86EE79DA0>"
     ]
    }
   ],
   "source": [
    "history = model.fit(\n",
    "train_generator,\n",
    "validation_data=val_generator,\n",
    "epochs=5,\n",
    "steps_per_epoch=len(train_df)//16,\n",
    "validation_steps=len(val_df) //16\n",
    "\n",
    ")"
   ]
  },
  {
   "cell_type": "code",
   "execution_count": null,
   "id": "346316eb",
   "metadata": {},
   "outputs": [],
   "source": []
  }
 ],
 "metadata": {
  "kernelspec": {
   "display_name": "cellula",
   "language": "python",
   "name": "python3"
  },
  "language_info": {
   "codemirror_mode": {
    "name": "ipython",
    "version": 3
   },
   "file_extension": ".py",
   "mimetype": "text/x-python",
   "name": "python",
   "nbconvert_exporter": "python",
   "pygments_lexer": "ipython3",
   "version": "3.13.7"
  }
 },
 "nbformat": 4,
 "nbformat_minor": 5
}
